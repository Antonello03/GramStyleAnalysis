{
 "cells": [
  {
   "cell_type": "code",
   "execution_count": 1,
   "id": "bb608252",
   "metadata": {},
   "outputs": [
    {
     "name": "stderr",
     "output_type": "stream",
     "text": [
      "/home/antonello03/anaconda3/envs/py31/lib/python3.11/site-packages/tqdm/auto.py:21: TqdmWarning: IProgress not found. Please update jupyter and ipywidgets. See https://ipywidgets.readthedocs.io/en/stable/user_install.html\n",
      "  from .autonotebook import tqdm as notebook_tqdm\n"
     ]
    }
   ],
   "source": [
    "import os\n",
    "import time\n",
    "import torch\n",
    "from torch.autograd import Variable\n",
    "import torch.nn as nn\n",
    "import torch.nn.functional as F\n",
    "from torch import optim\n",
    "import torchvision\n",
    "from torchvision import transforms\n",
    "from torchvision.transforms.functional import to_pil_image\n",
    "from PIL import Image, ImageOps\n",
    "from collections import OrderedDict, defaultdict, Counter\n",
    "import matplotlib.pyplot as plt\n",
    "from matplotlib.patches import Patch\n",
    "from matplotlib.gridspec import GridSpec\n",
    "import numpy as np\n",
    "from pathlib import Path"
   ]
  },
  {
   "cell_type": "code",
   "execution_count": 2,
   "id": "617e61ab",
   "metadata": {},
   "outputs": [],
   "source": [
    "root = Path(\"synth_out\")\n",
    "top4styles = [\"Impressionism\", \"Realism\", \"Baroque\", \"Romanticism\"]\n",
    "\n",
    "rmse_imgs, prs_imgs, cos_imgs = [], [], []\n",
    "\n",
    "for style in top4styles:\n",
    "    for i in range(3):\n",
    "        rmse_imgs.append(Image.open(root / f\"RMSE_{style}_{i}.jpg\"))\n",
    "        prs_imgs.append(Image.open(root / f\"PRS_{style}_{i}.jpg\"))\n",
    "        cos_imgs.append(Image.open(root / f\"COS_{style}_{i}.jpg\"))"
   ]
  },
  {
   "cell_type": "code",
   "execution_count": 3,
   "id": "4a02eca6",
   "metadata": {},
   "outputs": [
    {
     "name": "stdout",
     "output_type": "stream",
     "text": [
      "Collecting open-clip-torch\n",
      "  Downloading open_clip_torch-2.32.0-py3-none-any.whl.metadata (31 kB)\n",
      "Requirement already satisfied: torch>=1.9.0 in /home/antonello03/anaconda3/envs/py31/lib/python3.11/site-packages (from open-clip-torch) (2.3.0)\n",
      "Requirement already satisfied: torchvision in /home/antonello03/anaconda3/envs/py31/lib/python3.11/site-packages (from open-clip-torch) (0.18.0)\n",
      "Requirement already satisfied: regex in /home/antonello03/anaconda3/envs/py31/lib/python3.11/site-packages (from open-clip-torch) (2024.4.28)\n",
      "Collecting ftfy (from open-clip-torch)\n",
      "  Downloading ftfy-6.3.1-py3-none-any.whl.metadata (7.3 kB)\n",
      "Requirement already satisfied: tqdm in /home/antonello03/anaconda3/envs/py31/lib/python3.11/site-packages (from open-clip-torch) (4.66.4)\n",
      "Requirement already satisfied: huggingface-hub in /home/antonello03/anaconda3/envs/py31/lib/python3.11/site-packages (from open-clip-torch) (0.33.2)\n",
      "Requirement already satisfied: safetensors in /home/antonello03/anaconda3/envs/py31/lib/python3.11/site-packages (from open-clip-torch) (0.4.3)\n",
      "Collecting timm (from open-clip-torch)\n",
      "  Downloading timm-1.0.16-py3-none-any.whl.metadata (57 kB)\n",
      "Requirement already satisfied: filelock in /home/antonello03/anaconda3/envs/py31/lib/python3.11/site-packages (from torch>=1.9.0->open-clip-torch) (3.14.0)\n",
      "Requirement already satisfied: typing-extensions>=4.8.0 in /home/antonello03/anaconda3/envs/py31/lib/python3.11/site-packages (from torch>=1.9.0->open-clip-torch) (4.11.0)\n",
      "Requirement already satisfied: sympy in /home/antonello03/anaconda3/envs/py31/lib/python3.11/site-packages (from torch>=1.9.0->open-clip-torch) (1.12)\n",
      "Requirement already satisfied: networkx in /home/antonello03/anaconda3/envs/py31/lib/python3.11/site-packages (from torch>=1.9.0->open-clip-torch) (3.3)\n",
      "Requirement already satisfied: jinja2 in /home/antonello03/anaconda3/envs/py31/lib/python3.11/site-packages (from torch>=1.9.0->open-clip-torch) (3.1.3)\n",
      "Requirement already satisfied: fsspec in /home/antonello03/anaconda3/envs/py31/lib/python3.11/site-packages (from torch>=1.9.0->open-clip-torch) (2024.3.1)\n",
      "Requirement already satisfied: nvidia-cuda-nvrtc-cu12==12.1.105 in /home/antonello03/anaconda3/envs/py31/lib/python3.11/site-packages (from torch>=1.9.0->open-clip-torch) (12.1.105)\n",
      "Requirement already satisfied: nvidia-cuda-runtime-cu12==12.1.105 in /home/antonello03/anaconda3/envs/py31/lib/python3.11/site-packages (from torch>=1.9.0->open-clip-torch) (12.1.105)\n",
      "Requirement already satisfied: nvidia-cuda-cupti-cu12==12.1.105 in /home/antonello03/anaconda3/envs/py31/lib/python3.11/site-packages (from torch>=1.9.0->open-clip-torch) (12.1.105)\n",
      "Requirement already satisfied: nvidia-cudnn-cu12==8.9.2.26 in /home/antonello03/anaconda3/envs/py31/lib/python3.11/site-packages (from torch>=1.9.0->open-clip-torch) (8.9.2.26)\n",
      "Requirement already satisfied: nvidia-cublas-cu12==12.1.3.1 in /home/antonello03/anaconda3/envs/py31/lib/python3.11/site-packages (from torch>=1.9.0->open-clip-torch) (12.1.3.1)\n",
      "Requirement already satisfied: nvidia-cufft-cu12==11.0.2.54 in /home/antonello03/anaconda3/envs/py31/lib/python3.11/site-packages (from torch>=1.9.0->open-clip-torch) (11.0.2.54)\n",
      "Requirement already satisfied: nvidia-curand-cu12==10.3.2.106 in /home/antonello03/anaconda3/envs/py31/lib/python3.11/site-packages (from torch>=1.9.0->open-clip-torch) (10.3.2.106)\n",
      "Requirement already satisfied: nvidia-cusolver-cu12==11.4.5.107 in /home/antonello03/anaconda3/envs/py31/lib/python3.11/site-packages (from torch>=1.9.0->open-clip-torch) (11.4.5.107)\n",
      "Requirement already satisfied: nvidia-cusparse-cu12==12.1.0.106 in /home/antonello03/anaconda3/envs/py31/lib/python3.11/site-packages (from torch>=1.9.0->open-clip-torch) (12.1.0.106)\n",
      "Requirement already satisfied: nvidia-nccl-cu12==2.20.5 in /home/antonello03/anaconda3/envs/py31/lib/python3.11/site-packages (from torch>=1.9.0->open-clip-torch) (2.20.5)\n",
      "Requirement already satisfied: nvidia-nvtx-cu12==12.1.105 in /home/antonello03/anaconda3/envs/py31/lib/python3.11/site-packages (from torch>=1.9.0->open-clip-torch) (12.1.105)\n",
      "Requirement already satisfied: triton==2.3.0 in /home/antonello03/anaconda3/envs/py31/lib/python3.11/site-packages (from torch>=1.9.0->open-clip-torch) (2.3.0)\n",
      "Requirement already satisfied: nvidia-nvjitlink-cu12 in /home/antonello03/anaconda3/envs/py31/lib/python3.11/site-packages (from nvidia-cusolver-cu12==11.4.5.107->torch>=1.9.0->open-clip-torch) (12.3.101)\n",
      "Requirement already satisfied: wcwidth in /home/antonello03/anaconda3/envs/py31/lib/python3.11/site-packages (from ftfy->open-clip-torch) (0.2.13)\n",
      "Requirement already satisfied: packaging>=20.9 in /home/antonello03/anaconda3/envs/py31/lib/python3.11/site-packages (from huggingface-hub->open-clip-torch) (24.0)\n",
      "Requirement already satisfied: pyyaml>=5.1 in /home/antonello03/anaconda3/envs/py31/lib/python3.11/site-packages (from huggingface-hub->open-clip-torch) (6.0.1)\n",
      "Requirement already satisfied: requests in /home/antonello03/anaconda3/envs/py31/lib/python3.11/site-packages (from huggingface-hub->open-clip-torch) (2.32.4)\n",
      "Requirement already satisfied: hf-xet<2.0.0,>=1.1.2 in /home/antonello03/anaconda3/envs/py31/lib/python3.11/site-packages (from huggingface-hub->open-clip-torch) (1.1.5)\n",
      "Requirement already satisfied: numpy in /home/antonello03/anaconda3/envs/py31/lib/python3.11/site-packages (from torchvision->open-clip-torch) (1.26.4)\n",
      "Requirement already satisfied: pillow!=8.3.*,>=5.3.0 in /home/antonello03/anaconda3/envs/py31/lib/python3.11/site-packages (from torchvision->open-clip-torch) (10.2.0)\n",
      "Requirement already satisfied: MarkupSafe>=2.0 in /home/antonello03/anaconda3/envs/py31/lib/python3.11/site-packages (from jinja2->torch>=1.9.0->open-clip-torch) (2.1.5)\n",
      "Requirement already satisfied: charset_normalizer<4,>=2 in /home/antonello03/anaconda3/envs/py31/lib/python3.11/site-packages (from requests->huggingface-hub->open-clip-torch) (3.3.2)\n",
      "Requirement already satisfied: idna<4,>=2.5 in /home/antonello03/anaconda3/envs/py31/lib/python3.11/site-packages (from requests->huggingface-hub->open-clip-torch) (3.7)\n",
      "Requirement already satisfied: urllib3<3,>=1.21.1 in /home/antonello03/anaconda3/envs/py31/lib/python3.11/site-packages (from requests->huggingface-hub->open-clip-torch) (2.2.1)\n",
      "Requirement already satisfied: certifi>=2017.4.17 in /home/antonello03/anaconda3/envs/py31/lib/python3.11/site-packages (from requests->huggingface-hub->open-clip-torch) (2024.2.2)\n",
      "Requirement already satisfied: mpmath>=0.19 in /home/antonello03/anaconda3/envs/py31/lib/python3.11/site-packages (from sympy->torch>=1.9.0->open-clip-torch) (1.3.0)\n",
      "Downloading open_clip_torch-2.32.0-py3-none-any.whl (1.5 MB)\n",
      "\u001b[2K   \u001b[90m━━━━━━━━━━━━━━━━━━━━━━━━━━━━━━━━━━━━━━━━\u001b[0m \u001b[32m1.5/1.5 MB\u001b[0m \u001b[31m11.1 MB/s\u001b[0m eta \u001b[36m0:00:00\u001b[0m\n",
      "\u001b[?25hDownloading ftfy-6.3.1-py3-none-any.whl (44 kB)\n",
      "Downloading timm-1.0.16-py3-none-any.whl (2.5 MB)\n",
      "\u001b[2K   \u001b[90m━━━━━━━━━━━━━━━━━━━━━━━━━━━━━━━━━━━━━━━━\u001b[0m \u001b[32m2.5/2.5 MB\u001b[0m \u001b[31m11.9 MB/s\u001b[0m eta \u001b[36m0:00:00\u001b[0ma \u001b[36m0:00:01\u001b[0m\n",
      "\u001b[?25hInstalling collected packages: ftfy, timm, open-clip-torch\n",
      "Successfully installed ftfy-6.3.1 open-clip-torch-2.32.0 timm-1.0.16\n",
      "\n",
      "\u001b[1m[\u001b[0m\u001b[34;49mnotice\u001b[0m\u001b[1;39;49m]\u001b[0m\u001b[39;49m A new release of pip is available: \u001b[0m\u001b[31;49m25.0.1\u001b[0m\u001b[39;49m -> \u001b[0m\u001b[32;49m25.1.1\u001b[0m\n",
      "\u001b[1m[\u001b[0m\u001b[34;49mnotice\u001b[0m\u001b[1;39;49m]\u001b[0m\u001b[39;49m To update, run: \u001b[0m\u001b[32;49mpip install --upgrade pip\u001b[0m\n"
     ]
    }
   ],
   "source": [
    "!pip install open-clip-torch"
   ]
  },
  {
   "cell_type": "code",
   "execution_count": 4,
   "id": "6ad7e153",
   "metadata": {},
   "outputs": [
    {
     "name": "stderr",
     "output_type": "stream",
     "text": [
      "/home/antonello03/anaconda3/envs/py31/lib/python3.11/site-packages/open_clip/factory.py:388: UserWarning: These pretrained weights were trained with QuickGELU activation but the model config does not have that enabled. Consider using a model config with a \"-quickgelu\" suffix or enable with a flag.\n",
      "  warnings.warn(\n"
     ]
    }
   ],
   "source": [
    "import os\n",
    "import torch\n",
    "import torch.nn as nn\n",
    "from os.path import expanduser  # pylint: disable=import-outside-toplevel\n",
    "from urllib.request import urlretrieve  # pylint: disable=import-outside-toplevel\n",
    "def get_aesthetic_model(clip_model=\"vit_l_14\"):\n",
    "    \"\"\"load the aethetic model\"\"\"\n",
    "    home = expanduser(\"~\")\n",
    "    cache_folder = home + \"/.cache/emb_reader\"\n",
    "    path_to_model = cache_folder + \"/sa_0_4_\"+clip_model+\"_linear.pth\"\n",
    "    if not os.path.exists(path_to_model):\n",
    "        os.makedirs(cache_folder, exist_ok=True)\n",
    "        url_model = (\n",
    "            \"https://github.com/LAION-AI/aesthetic-predictor/blob/main/sa_0_4_\"+clip_model+\"_linear.pth?raw=true\"\n",
    "        )\n",
    "        urlretrieve(url_model, path_to_model)\n",
    "    if clip_model == \"vit_l_14\":\n",
    "        m = nn.Linear(768, 1)\n",
    "    elif clip_model == \"vit_b_32\":\n",
    "        m = nn.Linear(512, 1)\n",
    "    else:\n",
    "        raise ValueError()\n",
    "    s = torch.load(path_to_model)\n",
    "    m.load_state_dict(s)\n",
    "    m.eval()\n",
    "    return m\n",
    "\n",
    "amodel= get_aesthetic_model(clip_model=\"vit_l_14\")\n",
    "amodel.eval()\n",
    "\n",
    "import torch\n",
    "from PIL import Image\n",
    "import open_clip\n",
    "model, _, preprocess = open_clip.create_model_and_transforms('ViT-L-14', pretrained='openai')"
   ]
  },
  {
   "cell_type": "code",
   "execution_count": 10,
   "id": "7eff743e",
   "metadata": {},
   "outputs": [],
   "source": [
    "rmse_scores = []\n",
    "pearson_scores = []\n",
    "cosine_scores = []\n",
    "for img in rmse_imgs:\n",
    "    image = preprocess(img).unsqueeze(0)\n",
    "    with torch.no_grad():\n",
    "        image_features = model.encode_image(image)\n",
    "        image_features /= image_features.norm(dim=-1, keepdim=True)\n",
    "        prediction = amodel(image_features)\n",
    "        rmse_scores.append(prediction.item())\n",
    "\n",
    "for img in prs_imgs:\n",
    "    image = preprocess(img).unsqueeze(0)\n",
    "    with torch.no_grad():\n",
    "        image_features = model.encode_image(image)\n",
    "        image_features /= image_features.norm(dim=-1, keepdim=True)\n",
    "        prediction = amodel(image_features)\n",
    "        pearson_scores.append(prediction.item())\n",
    "\n",
    "for img in cos_imgs:\n",
    "    image = preprocess(img).unsqueeze(0)\n",
    "    with torch.no_grad():\n",
    "        image_features = model.encode_image(image)\n",
    "        image_features /= image_features.norm(dim=-1, keepdim=True)\n",
    "        prediction = amodel(image_features)\n",
    "        cosine_scores.append(prediction.item())"
   ]
  },
  {
   "cell_type": "code",
   "execution_count": 18,
   "id": "9062c8a9",
   "metadata": {},
   "outputs": [
    {
     "data": {
      "image/png": "[encoded data removed]",
      "text/plain": [
       "<Figure size 1200x500 with 2 Axes>"
      ]
     },
     "metadata": {},
     "output_type": "display_data"
    }
   ],
   "source": [
    "n = len(rmse_scores)\n",
    "w = 0.25\n",
    "base = np.arange(n) * (3*w + 0.4)\n",
    "\n",
    "fig, (ax1, ax2) = plt.subplots(1, 2, figsize=(12, 5))\n",
    "\n",
    "ax1.bar(base - w, rmse_scores,   w, color='C0', label='RMSE')\n",
    "ax1.bar(base,     pearson_scores, w, color='C1', label='Pearson')\n",
    "ax1.bar(base + w, cosine_scores, w, color='C2', label='Cosine')\n",
    "ax1.set_xticks(base)\n",
    "ax1.set_xticklabels([f'img {i+1}' for i in range(n)], rotation=45, ha='right')\n",
    "ax1.set_ylim(0, 10)\n",
    "ax1.legend()\n",
    "\n",
    "means = [np.mean(rmse_scores), np.mean(pearson_scores), np.mean(cosine_scores)]\n",
    "stds  = [np.std(rmse_scores),  np.std(pearson_scores),  np.std(cosine_scores)]\n",
    "\n",
    "x = np.arange(3)\n",
    "ax2.bar(x, means, w*3, yerr=stds, capsize=5, color=['C0', 'C1', 'C2'])\n",
    "ax2.set_xticks(x)\n",
    "ax2.set_xticklabels(['RMSE', 'Pearson', 'Cosine'])\n",
    "ax2.set_ylim(0, 10)\n",
    "\n",
    "fig.tight_layout()\n",
    "plt.show()\n"
   ]
  },
  {
   "cell_type": "code",
   "execution_count": 20,
   "id": "bb757cf7",
   "metadata": {},
   "outputs": [
    {
     "data": {
      "image/png": "[encoded data removed]",
      "text/plain": [
       "<Figure size 800x400 with 1 Axes>"
      ]
     },
     "metadata": {},
     "output_type": "display_data"
    }
   ],
   "source": [
    "group_vals  = np.vstack([rmse_scores, pearson_scores, cosine_scores])\n",
    "group_means = group_vals.mean(axis=0)\n",
    "group_stds  = group_vals.std(axis=0)\n",
    "\n",
    "x = np.arange(len(group_means))\n",
    "plt.figure(figsize=(8, 4))\n",
    "plt.bar(x, group_means, yerr=group_stds, capsize=5)\n",
    "plt.xticks(x, [f'img {i+1}' for i in range(len(group_means))], rotation=45, ha='right')\n",
    "plt.ylim(0, 10)\n",
    "plt.tight_layout()\n",
    "plt.show()\n"
   ]
  }
 ],
 "metadata": {
  "kernelspec": {
   "display_name": "py31",
   "language": "python",
   "name": "python3"
  },
  "language_info": {
   "codemirror_mode": {
    "name": "ipython",
    "version": 3
   },
   "file_extension": ".py",
   "mimetype": "text/x-python",
   "name": "python",
   "nbconvert_exporter": "python",
   "pygments_lexer": "ipython3",
   "version": "3.11.9"
  }
 },
 "nbformat": 4,
 "nbformat_minor": 5
}
