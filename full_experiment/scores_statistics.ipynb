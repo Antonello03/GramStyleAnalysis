{
 "cells": [
  {
   "cell_type": "code",
   "execution_count": null,
   "id": "3d1b89d6",
   "metadata": {},
   "outputs": [],
   "source": [
    "import json\n",
    "import numpy as np\n",
    "import matplotlib.pyplot as plt"
   ]
  },
  {
   "cell_type": "code",
   "execution_count": 23,
   "id": "ae2e8f05",
   "metadata": {},
   "outputs": [],
   "source": [
    "path = \"laion_scores_full_experiment_preliminary_results.json\"\n",
    "\n",
    "\n",
    "with open(path, \"r\") as f:\n",
    "    data = json.load(f)"
   ]
  },
  {
   "cell_type": "code",
   "execution_count": 24,
   "id": "2ef7a6e5",
   "metadata": {},
   "outputs": [
    {
     "name": "stdout",
     "output_type": "stream",
     "text": [
      "cosine: n=335, mean=4.1227, std=0.3605, min=3.0938, 25%=3.8906, median=4.1250, 75%=4.3750, max=5.2812, p5=3.5000, p95=4.6875, IQR=0.4844\n",
      "pearson: n=335, mean=4.1703, std=0.3544, min=3.1094, 25%=3.9375, median=4.1875, 75%=4.4062, max=5.1562, p5=3.5000, p95=4.7188, IQR=0.4688\n",
      "rmse: n=335, mean=4.1474, std=0.3564, min=2.8906, 25%=3.9219, median=4.1562, 75%=4.4062, max=4.9375, p5=3.5484, p95=4.7188, IQR=0.4844\n"
     ]
    },
    {
     "data": {
      "image/png": "[encoded data removed]",
      "text/plain": [
       "<Figure size 1200x400 with 3 Axes>"
      ]
     },
     "metadata": {},
     "output_type": "display_data"
    }
   ],
   "source": [
    "cosine_scores = [item['cosine'] for item in data.values()]\n",
    "rmse_scores = [item['rmse'] for item in data.values()]\n",
    "prs_scores = [item['pearson'] for item in data.values()]\n",
    "\n",
    "# use your lists\n",
    "cos = np.asarray(cosine_scores, dtype=float)\n",
    "prs = np.asarray(prs_scores, dtype=float)\n",
    "rmse = np.asarray(rmse_scores, dtype=float)\n",
    "\n",
    "def describe(name, x):\n",
    "    x = x[np.isfinite(x)]\n",
    "    q5, q25, q50, q75, q95 = np.percentile(x, [5, 25, 50, 75, 95])\n",
    "    iqr = q75 - q25\n",
    "    print(f\"{name}: n={x.size}, mean={x.mean():.4f}, std={x.std(ddof=1):.4f}, \"\n",
    "          f\"min={x.min():.4f}, 25%={q25:.4f}, median={q50:.4f}, 75%={q75:.4f}, \"\n",
    "          f\"max={x.max():.4f}, p5={q5:.4f}, p95={q95:.4f}, IQR={iqr:.4f}\")\n",
    "\n",
    "for name, arr in [(\"cosine\", cos), (\"pearson\", prs), (\"rmse\", rmse)]:\n",
    "    describe(name, arr)\n",
    "\n",
    "fig, axs = plt.subplots(1, 3, figsize=(12, 4), sharey=True)\n",
    "for ax, (name, arr) in zip(axs, [(\"cosine\", cos), (\"pearson\", prs), (\"rmse\", rmse)]):\n",
    "    ax.boxplot(arr, vert=True, showmeans=True)\n",
    "    ax.set_title(name)\n",
    "axs[0].set_ylabel(\"score\")\n",
    "plt.tight_layout()\n",
    "plt.show()"
   ]
  },
  {
   "cell_type": "code",
   "execution_count": 27,
   "id": "085605ef",
   "metadata": {},
   "outputs": [
    {
     "name": "stdout",
     "output_type": "stream",
     "text": [
      "Mean ± SD per metodo:\n",
      "  Cosine: 4.123 ± 0.361\n",
      "  Pearson: 4.170 ± 0.354\n",
      "  RMSE: 4.147 ± 0.356\n",
      "\n",
      "Statistical Test Results:\n",
      "Comparison between Cosine and Pearson:\n",
      "  Statistic: 14770.0, p-value: 1.1830722241359065e-08, r_rank-biserial: -0.375\n",
      "  Significant difference detected.\n",
      "\n",
      "Comparison between Cosine and RMSE:\n",
      "  Statistic: 22854.5, p-value: 0.039632177715186304, r_rank-biserial: -0.132\n",
      "  Significant difference detected.\n",
      "\n",
      "Comparison between Pearson and RMSE:\n",
      "  Statistic: 23704.5, p-value: 0.1202660517495873, r_rank-biserial: 0.100\n",
      "  No significant difference detected.\n",
      "\n"
     ]
    }
   ],
   "source": [
    "from scipy.stats import wilcoxon, rankdata\n",
    "from itertools import combinations\n",
    "\n",
    "methods = [cosine_scores, prs_scores, rmse_scores]\n",
    "labels  = ['Cosine', 'Pearson', 'RMSE']\n",
    "\n",
    "items = list(zip(labels, methods))\n",
    "\n",
    "results = []\n",
    "for (label1, m1), (label2, m2) in combinations(items, 2):\n",
    "    stat, p = wilcoxon(m1, m2)\n",
    "    d = np.asarray(m1) - np.asarray(m2)\n",
    "    d = d[d != 0] \n",
    "    ranks = rankdata(np.abs(d), method='average')\n",
    "    Wp = ranks[d > 0].sum()\n",
    "    Wm = ranks[d < 0].sum()\n",
    "    r_rb = (Wp - Wm) / ranks.sum()\n",
    "\n",
    "    results.append((label1, label2, stat, p, r_rb))\n",
    "\n",
    "print(\"Mean ± SD per metodo:\")\n",
    "for label, m in zip(labels, methods):\n",
    "    mean = np.mean(m)\n",
    "    sd   = np.std(m, ddof=1)\n",
    "    print(f\"  {label}: {mean:.3f} ± {sd:.3f}\")\n",
    "print()\n",
    "\n",
    "print(\"Statistical Test Results:\")\n",
    "for (label1, label2, stat, p, r_rb) in results:\n",
    "    print(f\"Comparison between {label1} and {label2}:\")\n",
    "    print(f\"  Statistic: {stat}, p-value: {p}, r_rank-biserial: {r_rb:.3f}\")\n",
    "    if p < 0.05:\n",
    "        print(\"  Significant difference detected.\")\n",
    "    else:\n",
    "        print(\"  No significant difference detected.\")\n",
    "    print()\n"
   ]
  }
 ],
 "metadata": {
  "kernelspec": {
   "display_name": "py31",
   "language": "python",
   "name": "python3"
  },
  "language_info": {
   "codemirror_mode": {
    "name": "ipython",
    "version": 3
   },
   "file_extension": ".py",
   "mimetype": "text/x-python",
   "name": "python",
   "nbconvert_exporter": "python",
   "pygments_lexer": "ipython3",
   "version": "3.11.9"
  }
 },
 "nbformat": 4,
 "nbformat_minor": 5
}
