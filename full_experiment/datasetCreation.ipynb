{
 "cells": [
  {
   "cell_type": "markdown",
   "id": "8fc54b13",
   "metadata": {},
   "source": [
    "# Use\n",
    "This notebook is used to extract a subset of wikiart and ms coco to be used in NST"
   ]
  },
  {
   "cell_type": "markdown",
   "id": "eb991d3e",
   "metadata": {},
   "source": [
    "## Extracting Style Images\n",
    "\n",
    "Goal is to have 50 images, first 12 already defined"
   ]
  },
  {
   "cell_type": "code",
   "execution_count": 2,
   "id": "da913a1f",
   "metadata": {},
   "outputs": [
    {
     "name": "stderr",
     "output_type": "stream",
     "text": [
      "/home/antonello03/anaconda3/envs/py31/lib/python3.11/site-packages/tqdm/auto.py:21: TqdmWarning: IProgress not found. Please update jupyter and ipywidgets. See https://ipywidgets.readthedocs.io/en/stable/user_install.html\n",
      "  from .autonotebook import tqdm as notebook_tqdm\n"
     ]
    }
   ],
   "source": [
    "import os\n",
    "from datasets import load_dataset, Dataset, disable_caching\n",
    "import itertools, datasets\n",
    "import nest_asyncio; nest_asyncio.apply()\n",
    "\n",
    "styles_path = \"evaluation_pictures/style\""
   ]
  },
  {
   "cell_type": "code",
   "execution_count": 3,
   "id": "002bfee8",
   "metadata": {},
   "outputs": [],
   "source": [
    "stream_ds = load_dataset(\n",
    "    \"huggan/wikiart\",\n",
    "    split=\"train\",    \n",
    "    streaming=True    \n",
    ")\n",
    "stream_ds = stream_ds.shuffle(seed=42, buffer_size=5000)\n",
    "num_threads = num_threads = min(32, (os.cpu_count() or 1) + 4)\n",
    "stream_ds = stream_ds.decode(num_threads=num_threads)\n",
    "first_200 = stream_ds.take(200)"
   ]
  },
  {
   "cell_type": "code",
   "execution_count": 4,
   "id": "424d1fcb",
   "metadata": {},
   "outputs": [],
   "source": [
    "style_feature = stream_ds.features[\"style\"]\n",
    "\n",
    "idx_to_style = {i: style_feature.int2str(i) for i in range(style_feature.num_classes)}\n",
    "\n",
    "style_to_idx = style_feature.str2int\n"
   ]
  },
  {
   "cell_type": "code",
   "execution_count": 13,
   "id": "0a0b1ca2",
   "metadata": {},
   "outputs": [
    {
     "name": "stdout",
     "output_type": "stream",
     "text": [
      "Style counts in the subset of 200 images:\n",
      "Abstract_Expressionism: 8\n",
      "Action_painting: 0\n",
      "Analytical_Cubism: 0\n",
      "Art_Nouveau: 8\n",
      "Baroque: 16\n",
      "Color_Field_Painting: 7\n",
      "Contemporary_Realism: 1\n",
      "Cubism: 8\n",
      "Early_Renaissance: 7\n",
      "Expressionism: 18\n",
      "Fauvism: 1\n",
      "High_Renaissance: 2\n",
      "Impressionism: 25\n",
      "Mannerism_Late_Renaissance: 4\n",
      "Minimalism: 1\n",
      "Naive_Art_Primitivism: 7\n",
      "New_Realism: 2\n",
      "Northern_Renaissance: 7\n",
      "Pointillism: 1\n",
      "Pop_Art: 0\n",
      "Post_Impressionism: 17\n",
      "Realism: 23\n",
      "Rococo: 9\n",
      "Romanticism: 12\n",
      "Symbolism: 9\n",
      "Synthetic_Cubism: 1\n",
      "Ukiyo_e: 6\n"
     ]
    }
   ],
   "source": [
    "style_count = {style: 0 for style in idx_to_style.values()}\n",
    "\n",
    "for example in first_200:\n",
    "    style = idx_to_style[example[\"style\"]]\n",
    "    style_count[style] += 1\n",
    "\n",
    "print(\"Style counts in the subset of 200 images:\")\n",
    "for style, count in style_count.items():\n",
    "    print(f\"{style}: {count}\")"
   ]
  },
  {
   "cell_type": "code",
   "execution_count": 14,
   "id": "a2c784d2",
   "metadata": {},
   "outputs": [],
   "source": [
    "final_subset = []\n",
    "style_count_final = {style: 0 for style in idx_to_style.values()}\n",
    "\n",
    "for img in first_200:\n",
    "    \n",
    "    if len(final_subset) >= 38:\n",
    "        break\n",
    "    style = idx_to_style[img[\"style\"]]\n",
    "\n",
    "    if style_count[style] >= 3 and style not in ['Baroque', 'Impressionism', 'Realism', 'Romanticism'] and style_count_final[style] <= 2:\n",
    "        final_subset.append(img)\n",
    "\n",
    "    style_count_final[style] += 1"
   ]
  },
  {
   "cell_type": "code",
   "execution_count": 22,
   "id": "dc87ad9c",
   "metadata": {},
   "outputs": [
    {
     "name": "stdout",
     "output_type": "stream",
     "text": [
      "{'image': <PIL.JpegImagePlugin.JpegImageFile image mode=RGB size=1862x1382 at 0x79C187159E90>, 'artist': 0, 'genre': 2, 'style': 7}\n",
      "Cubism\n"
     ]
    }
   ],
   "source": [
    "images_final_subset = [img[\"image\"] for img in final_subset]\n",
    "print(final_subset[0])\n",
    "print(idx_to_style[final_subset[0][\"style\"]])"
   ]
  },
  {
   "cell_type": "code",
   "execution_count": null,
   "id": "14ebe947",
   "metadata": {},
   "outputs": [],
   "source": [
    "out = \"evaluation_pictures/style\"\n",
    "counts = {}\n",
    "\n",
    "for img, rec in zip(images_final_subset, final_subset):\n",
    "    style = idx_to_style[rec[\"style\"]][\"style\"]\n",
    "    i = counts.get(style, 0)\n",
    "    img.save(out + f\"/{style}_{i}.jpg\", \"JPEG\")\n",
    "    counts[style] = i + 1\n"
   ]
  },
  {
   "cell_type": "markdown",
   "id": "dfca888c",
   "metadata": {},
   "source": [
    "## Extracting Content images"
   ]
  },
  {
   "cell_type": "code",
   "execution_count": 2,
   "id": "272204b6",
   "metadata": {},
   "outputs": [
    {
     "name": "stdout",
     "output_type": "stream",
     "text": [
      "creating index...\n",
      "index created!\n"
     ]
    }
   ],
   "source": [
    "import json, random, re, requests, zipfile, io, tempfile\n",
    "from pathlib import Path\n",
    "from pycocotools.coco import COCO\n",
    "\n",
    "N_IMAGES = 50\n",
    "SPLIT = \"val2017\"\n",
    "OUT_DIR = Path(\"coco_images_only\")\n",
    "SEED = None\n",
    "\n",
    "def slugify(s): return re.sub(r\"[^a-z0-9\\-_.]+\", \"\", s.lower().strip().replace(\" \", \"-\"))\n",
    "\n",
    "def load_coco(split):\n",
    "    url = \"http://images.cocodataset.org/annotations/annotations_trainval2017.zip\"\n",
    "    with requests.get(url, stream=True, timeout=60) as r:\n",
    "        r.raise_for_status()\n",
    "        with tempfile.NamedTemporaryFile(delete=True) as tmp:\n",
    "            for ch in r.iter_content(1<<20):\n",
    "                if ch: tmp.write(ch)\n",
    "            tmp.flush()\n",
    "            with zipfile.ZipFile(tmp.name) as z:\n",
    "                name = [n for n in z.namelist() if n.endswith(f\"instances_{split}.json\")][0]\n",
    "                with z.open(name) as f: data = json.load(f)\n",
    "    c = COCO()\n",
    "    c.dataset = data\n",
    "    c.createIndex()\n",
    "    return c\n",
    "\n",
    "if SEED is not None: random.seed(SEED)\n",
    "OUT_DIR.mkdir(parents=True, exist_ok=True)\n",
    "coco = load_coco(SPLIT)\n",
    "cats = coco.loadCats(coco.getCatIds())\n",
    "chosen = random.sample(cats, k=min(N_IMAGES, len(cats)))\n",
    "seen = set()\n",
    "s = requests.Session()\n",
    "for cat in chosen:\n",
    "    ids = coco.getImgIds(catIds=[cat[\"id\"]]); random.shuffle(ids)\n",
    "    pick = next((coco.loadImgs([i])[0] for i in ids if i not in seen), None)\n",
    "    if not pick: continue\n",
    "    seen.add(pick[\"id\"])\n",
    "    url = pick.get(\"coco_url\") or pick.get(\"COCO_URL\")\n",
    "    if not url: continue\n",
    "    dest = OUT_DIR / f\"{slugify(cat['name'])}__{pick['file_name']}\"\n",
    "    with s.get(url, stream=True, timeout=60) as r:\n",
    "        r.raise_for_status()\n",
    "        with open(dest, \"wb\") as f:\n",
    "            for ch in r.iter_content(1<<20):\n",
    "                if ch: f.write(ch)\n"
   ]
  }
 ],
 "metadata": {
  "kernelspec": {
   "display_name": "py31",
   "language": "python",
   "name": "python3"
  },
  "language_info": {
   "codemirror_mode": {
    "name": "ipython",
    "version": 3
   },
   "file_extension": ".py",
   "mimetype": "text/x-python",
   "name": "python",
   "nbconvert_exporter": "python",
   "pygments_lexer": "ipython3",
   "version": "3.11.9"
  }
 },
 "nbformat": 4,
 "nbformat_minor": 5
}
