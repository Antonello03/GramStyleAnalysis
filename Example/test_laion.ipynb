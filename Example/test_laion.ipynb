{
 "cells": [
  {
   "cell_type": "code",
   "execution_count": null,
   "metadata": {},
   "outputs": [],
   "source": [
    "import json\n",
    "import torch\n",
    "import torch.nn as nn\n",
    "from aesthetic_predictor_v2_5 import convert_v2_5_from_siglip\n",
    "from PIL import Image\n",
    "import os\n",
    "from os.path import expanduser  # pylint: disable=import-outside-toplevel\n",
    "import open_clip\n",
    "from pathlib import Path\n",
    "from urllib.request import urlretrieve  # pylint: disable=import-outside-toplevel\n",
    "\n"
   ]
  },
  {
   "cell_type": "code",
   "execution_count": null,
   "id": "8862d13e",
   "metadata": {},
   "outputs": [],
   "source": [
    "!pip install open-clip-torch is needed\n"
   ]
  },
  {
   "cell_type": "code",
   "execution_count": null,
   "id": "c173ead5",
   "metadata": {},
   "outputs": [],
   "source": [
    "\n",
    "####################################\n",
    "# LAION Instantiation\n",
    "####################################\n",
    "\n",
    "def get_aesthetic_model(clip_model=\"vit_l_14\"):\n",
    "    \"\"\"load the aethetic model\"\"\"\n",
    "    home = expanduser(\"~\")\n",
    "    cache_folder = home + \"/.cache/emb_reader\"\n",
    "    path_to_model = cache_folder + \"/sa_0_4_\"+clip_model+\"_linear.pth\"\n",
    "    if not os.path.exists(path_to_model):\n",
    "        os.makedirs(cache_folder, exist_ok=True)\n",
    "        url_model = (\n",
    "            \"https://github.com/LAION-AI/aesthetic-predictor/blob/main/sa_0_4_\"+clip_model+\"_linear.pth?raw=true\"\n",
    "        )\n",
    "        urlretrieve(url_model, path_to_model)\n",
    "    if clip_model == \"vit_l_14\":\n",
    "        m = nn.Linear(768, 1)\n",
    "    elif clip_model == \"vit_b_32\":\n",
    "        m = nn.Linear(512, 1)\n",
    "    else:\n",
    "        raise ValueError()\n",
    "    s = torch.load(path_to_model)\n",
    "    m.load_state_dict(s)\n",
    "    m.eval()\n",
    "    return m\n",
    "\n",
    "amodel= get_aesthetic_model(clip_model=\"vit_l_14\")\n",
    "amodel.eval()\n",
    "\n",
    "model, _, preprocess = open_clip.create_model_and_transforms('ViT-L-14', pretrained='openai')\n"
   ]
  },
  {
   "cell_type": "code",
   "execution_count": null,
   "id": "a8586582",
   "metadata": {},
   "outputs": [],
   "source": [
    "\n",
    "############################################\n",
    "# Load Images and Compute Scores\n",
    "############################################\n",
    "\n",
    "img_dir = Path(\"output\")\n",
    "scores = {}\n",
    "\n",
    "for path in sorted(img_dir.glob(\"*.jpg\")):\n",
    "    base, metric = path.stem.rsplit(\"_\", 1)\n",
    "    metric = {\"cos\": \"cosine\", \"prs\": \"pearson\", \"rmse\": \"rmse\"}.get(metric, metric)\n",
    "    img = Image.open(path)\n",
    "    image = preprocess(img).unsqueeze(0)\n",
    "    with torch.no_grad():\n",
    "        f = model.encode_image(image)\n",
    "        f /= f.norm(dim=-1, keepdim=True)\n",
    "        pred = amodel(f).item()\n",
    "    scores.setdefault(base, {\"rmse\": None, \"cosine\": None, \"pearson\": None})[metric] = pred\n",
    "\n",
    "with open(\"laion_scores.json\", \"w\") as f:\n",
    "    json.dump(scores, f, indent=2)"
   ]
  }
 ],
 "metadata": {
  "kernelspec": {
   "display_name": "venv",
   "language": "python",
   "name": "python3"
  },
  "language_info": {
   "name": "python",
   "version": "3.12.3"
  }
 },
 "nbformat": 4,
 "nbformat_minor": 5
}
